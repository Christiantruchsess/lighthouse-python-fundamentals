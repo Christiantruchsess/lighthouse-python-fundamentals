{
 "cells": [
  {
   "cell_type": "code",
   "execution_count": 21,
   "metadata": {},
   "outputs": [
    {
     "name": "stdout",
     "output_type": "stream",
     "text": [
      "11\n",
      "5\n",
      "126\n"
     ]
    }
   ],
   "source": [
    "# Kata.1) Define a function that takes a list of numbers as an argument\n",
    "# and ouputs the sum of the two largest numbers. \n",
    "def sumLargestNumbers(num_list):  \n",
    "    num_list.sort()\n",
    "    i = len(num_list) - 1\n",
    "    x,y = num_list[i-1],num_list[i]\n",
    "    return x + y \n",
    "    \n",
    "print(sumLargestNumbers([1, 10]))\n",
    "print(sumLargestNumbers([1, 2, 3]))\n",
    "print(sumLargestNumbers([10, 4, 34, 6, 92, 2]))"
   ]
  },
  {
   "cell_type": "code",
   "execution_count": 9,
   "metadata": {},
   "outputs": [
    {
     "name": "stdout",
     "output_type": "stream",
     "text": [
      "6\n",
      "9\n",
      "144\n",
      "0\n"
     ]
    }
   ],
   "source": [
    "# Kata.2) Create a function named conditionalSum that will be given a list of numbers and a condition, \n",
    "# in this case odd or even. Given this condition, \n",
    "# add up only the values which match that condition. \n",
    "# If no values match the condition, return 0.\n",
    "\n",
    "def conditionalSum(values, condition):\n",
    "    sum = 0\n",
    "    for i in values:\n",
    "        x = 0 if condition == 'even' else 1\n",
    "        if i % 2 == x: \n",
    "            sum += i\n",
    "    return sum\n",
    "    \n",
    "print(conditionalSum([1, 2, 3, 4, 5], \"even\"))\n",
    "print(conditionalSum([1, 2, 3, 4, 5], \"odd\"))\n",
    "print(conditionalSum([13, 88, 12, 44, 99], \"even\"))\n",
    "print(conditionalSum([], \"odd\"))"
   ]
  },
  {
   "cell_type": "code",
   "execution_count": 6,
   "metadata": {},
   "outputs": [
    {
     "name": "stdout",
     "output_type": "stream",
     "text": [
      "3\n",
      "5\n",
      "5\n"
     ]
    }
   ],
   "source": [
    "# Kata.3) Create a function named numberOfVowels that will receive a string and return the number of vowels in that string.\n",
    "\n",
    "def numberOfVowels(string):\n",
    "    vowels = ['a','e','i','o','u']\n",
    "    v_counter = 0\n",
    "    for i in string:\n",
    "        if i in vowels:\n",
    "            v_counter += 1\n",
    "    return v_counter\n",
    "    \n",
    "print(numberOfVowels(\"orange\"))\n",
    "print(numberOfVowels(\"lighthouse labs\"))\n",
    "print(numberOfVowels(\"aeiou\"))"
   ]
  },
  {
   "cell_type": "code",
   "execution_count": 55,
   "metadata": {},
   "outputs": [
    {
     "name": "stdout",
     "output_type": "stream",
     "text": [
      "{'name': 'Jeremiah', 'course': 'Data'}\n",
      "{'name': 'Domascus', 'course': 'Web'}\n"
     ]
    }
   ],
   "source": [
    "# Kata.4) \n",
    "# Create a function named instructorWithLongestName that will receive a list of instructor dictionaries, \n",
    "# and return the object that has the longest name. If there are two instructors with the longest name, return the first one.\n",
    "\n",
    "def instructorWithLongestName(instructors):\n",
    "    name_list = []\n",
    "    for d in instructors:\n",
    "        name_list.append(d['name'])\n",
    "    longest_name = max(name_list, key=len)\n",
    "    instructor_index = name_list.index(longest_name)\n",
    "    return instructors[instructor_index]\n",
    "    \n",
    "        \n",
    "print(instructorWithLongestName([\n",
    "  {'name': \"Samuel\", 'course': \"iOS\"},\n",
    "  {'name': \"Jeremiah\", 'course': \"Data\"},\n",
    "  {'name': \"Ophilia\", 'course': \"Web\"},\n",
    "  {'name': \"Donald\", 'course': \"Web\"}\n",
    "]))\n",
    "print(instructorWithLongestName([\n",
    "  {'name': \"Matthew\", 'course': \"Data\"},\n",
    "  {'name': \"David\", 'course': \"iOS\"},\n",
    "  {'name': \"Domascus\", 'course': \"Web\"}\n",
    "]))"
   ]
  },
  {
   "cell_type": "code",
   "execution_count": 116,
   "metadata": {},
   "outputs": [
    {
     "name": "stdout",
     "output_type": "stream",
     "text": [
      "blue is greener than purple for sure\n",
      "blue%20is greener than purple for sure\n",
      "blue%20is%20greener than purple for sure\n",
      "blue%20is%20greener%20than purple for sure\n",
      "blue%20is%20greener%20than%20purple for sure\n",
      "blue%20is%20greener%20than%20purple%20for sure\n",
      "blue%20is%20greener%20than%20purple%20for%20sure\n",
      "blue%20is%20greener%20than%20purple%20for%20sure\n"
     ]
    }
   ],
   "source": [
    "#Kata.5) Create a function named urlEncode that will receive a string of words, and return that \n",
    "# string with all of the whitespace characters converted to %20. \n",
    "# If there is whitespace on the outside of the string, like in our second example above, \n",
    "# you should only replace the whitespace within the string.\n",
    "\n",
    "def urlEncode(text):\n",
    "    clean_string = text.strip()\n",
    "    index = -1\n",
    "    print(clean_string)\n",
    "    for char in clean_string:\n",
    "        index += 1\n",
    "        if char.isspace() == True:\n",
    "            clean_string = clean_string[:index] + '%20' + clean_string[index + 1:]\n",
    "            index += 2\n",
    "            print(clean_string)\n",
    "    return clean_string\n",
    "\n",
    "#print(urlEncode(\"Lighthouse Labs\"))\n",
    "#print(urlEncode(\" Lighthouse Labs  \"))\n",
    "print(urlEncode(\"blue is greener than purple for sure\"))"
   ]
  },
  {
   "cell_type": "code",
   "execution_count": 18,
   "metadata": {},
   "outputs": [
    {
     "name": "stdout",
     "output_type": "stream",
     "text": [
      "[4, 0]\n",
      "No more spots bro!\n",
      "[3, 1]\n"
     ]
    }
   ],
   "source": [
    "# Kata.6) We need to write a function called whereCanIPark() that returns the coordinates of an available \n",
    "# parking spot for the vehicle, or returns false if there is no available spot. \n",
    "# Our function receives a list of lists representing parking spots, and a string with type \n",
    "# of the vehicle that is looking for a parking spot.\n",
    "\n",
    "# There are three kinds of possible vehicles: regular cars, small cars, and motorcycles.\n",
    "\n",
    "# Regular cars can only park in R spots.\n",
    "# Small cars can park in R or S spots.\n",
    "# Motorcycles can park in R, S, or M spots.\n",
    "# In the list of parking spots, spots are written in both lower-case and upper-case. \n",
    "# An upper-case letter means that the particular spot is AVAILABLE, while lower-case letters mean that the spot is UNAVAILABLE.\n",
    "\n",
    "# Our function must return a list with the coordinates of the spot as an [X, Y] pair. \n",
    "\n",
    "def whereCanIPark(spots,vehicle):\n",
    "    y = -1\n",
    "    for i in spots:\n",
    "        x = -1\n",
    "        y += 1\n",
    "        for j in i:\n",
    "            x += 1 \n",
    "            if (vehicle == 'small' and j == 'M') or (vehicle == 'regular' and (j == 'M' or j == 'S')):\n",
    "                    j = j.lower()\n",
    "            if j.isupper():\n",
    "                return([x,y])\n",
    "    return('No more spots bro!')\n",
    "            \n",
    "print(whereCanIPark(\n",
    "  [\n",
    "    # COLUMNS ARE X\n",
    "    # 0    1    2    3    4    5\n",
    "    ['s', 's', 's', 'S', 'R', 'M'], # 0 ROWS ARE Y\n",
    "    ['s', 'M', 's', 'S', 'r', 'M'], # 1\n",
    "    ['s', 'M', 's', 'S', 'r', 'm'], # 2\n",
    "    ['S', 'r', 's', 'm', 'r', 'M'], # 3\n",
    "    ['S', 'r', 's', 'm', 'r', 'M'], # 4\n",
    "    ['S', 'r', 'S', 'M', 'M', 'S']  # 5\n",
    "  ],\n",
    "  'regular'\n",
    "))\n",
    "\n",
    "print(whereCanIPark(\n",
    "  [\n",
    "    ['M', 'M', 'M', 'M'],\n",
    "    ['M', 's', 'M', 'M'],\n",
    "    ['M', 'M', 'M', 'M'],\n",
    "    ['M', 'M', 'r', 'M']\n",
    "  ],\n",
    "  'small'\n",
    "))\n",
    "\n",
    "print(whereCanIPark(\n",
    "  [\n",
    "    ['s', 's', 's', 's', 's', 's'],\n",
    "    ['s', 'm', 's', 'S', 'r', 's'],\n",
    "    ['s', 'm', 's', 'S', 'r', 's'],\n",
    "    ['S', 'r', 's', 'm', 'r', 's'],\n",
    "    ['S', 'r', 's', 'm', 'R', 's'],\n",
    "    ['S', 'r', 'S', 'M', 'm', 'S']\n",
    "  ],\n",
    "  'motorcycle'\n",
    "))"
   ]
  },
  {
   "cell_type": "code",
   "execution_count": 24,
   "metadata": {},
   "outputs": [
    {
     "name": "stdout",
     "output_type": "stream",
     "text": [
      "Polluted\n",
      "Polluted\n",
      "Clean\n"
     ]
    }
   ],
   "source": [
    "# Kata.7) For this challenge, we will implement a function called checkAir(), which will check a collection of air samples. \n",
    "# The function will take in two arguments. The first argument is a list of strings, where each string represents a \n",
    "# small air sample that is either clean or dirty. The second argument is a number representing the highest acceptable \n",
    "# amount of dirty samples. For example, a threshold of 0.4 means that there must be less than 40% of total samples \n",
    "# classified as dirty for our air to be considered clean. Our function must return Polluted if there are too many \n",
    "# dirty air samples, or Clean if the proportion of dirty samples is below the threshold.\n",
    "\n",
    "def checkAir(samples, threshold):\n",
    "    dirty_count = 0\n",
    "    clean_count = 0\n",
    "    for air in samples:\n",
    "        if air == 'dirty':\n",
    "            dirty_count += 1\n",
    "        else:\n",
    "            clean_count += 1 \n",
    "    dirty_ratio = dirty_count/clean_count\n",
    "    if dirty_ratio > threshold:\n",
    "        return('Polluted')\n",
    "    else:\n",
    "        return('Clean')\n",
    "           \n",
    "print(checkAir(\n",
    "  ['clean', 'clean', 'dirty', 'clean', 'dirty', 'clean', 'clean', 'dirty', 'clean', 'dirty'],\n",
    "  0.3\n",
    "))\n",
    "\n",
    "print(checkAir(\n",
    "  ['dirty', 'dirty', 'dirty', 'dirty', 'clean'],\n",
    "  0.25\n",
    "))\n",
    "\n",
    "print(checkAir(\n",
    "  ['clean', 'dirty', 'clean', 'dirty', 'clean', 'dirty', 'clean'],\n",
    "  0.9\n",
    "))"
   ]
  },
  {
   "cell_type": "code",
   "execution_count": null,
   "metadata": {},
   "outputs": [],
   "source": []
  }
 ],
 "metadata": {
  "kernelspec": {
   "display_name": "Python 3",
   "language": "python",
   "name": "python3"
  },
  "language_info": {
   "codemirror_mode": {
    "name": "ipython",
    "version": 3
   },
   "file_extension": ".py",
   "mimetype": "text/x-python",
   "name": "python",
   "nbconvert_exporter": "python",
   "pygments_lexer": "ipython3",
   "version": "3.7.6"
  }
 },
 "nbformat": 4,
 "nbformat_minor": 4
}

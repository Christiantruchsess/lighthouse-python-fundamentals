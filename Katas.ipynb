{
 "cells": [
  {
   "cell_type": "code",
   "execution_count": 21,
   "metadata": {},
   "outputs": [
    {
     "name": "stdout",
     "output_type": "stream",
     "text": [
      "11\n",
      "5\n",
      "126\n"
     ]
    }
   ],
   "source": [
    "# Kata.1) Define a function that takes a list of numbers as an argument\n",
    "# and ouputs the sum of the two largest numbers. \n",
    "def sumLargestNumbers(num_list):  \n",
    "    num_list.sort()\n",
    "    i = len(num_list) - 1\n",
    "    x,y = num_list[i-1],num_list[i]\n",
    "    return x + y \n",
    "    \n",
    "print(sumLargestNumbers([1, 10]))\n",
    "print(sumLargestNumbers([1, 2, 3]))\n",
    "print(sumLargestNumbers([10, 4, 34, 6, 92, 2]))"
   ]
  },
  {
   "cell_type": "code",
   "execution_count": 9,
   "metadata": {},
   "outputs": [
    {
     "name": "stdout",
     "output_type": "stream",
     "text": [
      "6\n",
      "9\n",
      "144\n",
      "0\n"
     ]
    }
   ],
   "source": [
    "# Kata.2) Create a function named conditionalSum that will be given a list of numbers and a condition, \n",
    "# in this case odd or even. Given this condition, \n",
    "# add up only the values which match that condition. \n",
    "# If no values match the condition, return 0.\n",
    "\n",
    "def conditionalSum(values, condition):\n",
    "    sum = 0\n",
    "    for i in values:\n",
    "        x = 0 if condition == 'even' else 1\n",
    "        if i % 2 == x: \n",
    "            sum += i\n",
    "    return sum\n",
    "    \n",
    "print(conditionalSum([1, 2, 3, 4, 5], \"even\"))\n",
    "print(conditionalSum([1, 2, 3, 4, 5], \"odd\"))\n",
    "print(conditionalSum([13, 88, 12, 44, 99], \"even\"))\n",
    "print(conditionalSum([], \"odd\"))"
   ]
  },
  {
   "cell_type": "code",
   "execution_count": 6,
   "metadata": {},
   "outputs": [
    {
     "name": "stdout",
     "output_type": "stream",
     "text": [
      "3\n",
      "5\n",
      "5\n"
     ]
    }
   ],
   "source": [
    "# Kata.3) Create a function named numberOfVowels that will receive a string and return the number of vowels in that string.\n",
    "\n",
    "def numberOfVowels(string):\n",
    "    vowels = ['a','e','i','o','u']\n",
    "    v_counter = 0\n",
    "    for i in string:\n",
    "        if i in vowels:\n",
    "            v_counter += 1\n",
    "    return v_counter\n",
    "    \n",
    "print(numberOfVowels(\"orange\"))\n",
    "print(numberOfVowels(\"lighthouse labs\"))\n",
    "print(numberOfVowels(\"aeiou\"))"
   ]
  },
  {
   "cell_type": "code",
   "execution_count": null,
   "metadata": {},
   "outputs": [],
   "source": []
  }
 ],
 "metadata": {
  "kernelspec": {
   "display_name": "Python 3",
   "language": "python",
   "name": "python3"
  },
  "language_info": {
   "codemirror_mode": {
    "name": "ipython",
    "version": 3
   },
   "file_extension": ".py",
   "mimetype": "text/x-python",
   "name": "python",
   "nbconvert_exporter": "python",
   "pygments_lexer": "ipython3",
   "version": "3.7.6"
  }
 },
 "nbformat": 4,
 "nbformat_minor": 4
}
